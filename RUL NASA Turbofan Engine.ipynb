{
 "cells": [
  {
   "cell_type": "markdown",
   "metadata": {},
   "source": [
    "# NASA Turbofan Engine Simulated Failures\n",
    "\n",
    "\n",
    "**Download Dataset** \n",
    "\n",
    "https://ti.arc.nasa.gov/tech/dash/groups/pcoe/prognostic-data-repository/\n",
    "\n",
    "**Background**\n",
    "\n",
    "The engine is operating normally at the start of each time series, and develops a fault at some point during the series. In the training set, the fault grows in magnitude until system failure. In the test set, the time series ends some time prior to system failure. \n",
    "\n",
    "The objective of the competition is to predict the number of remaining operational cycles before failure in the test set, i.e., the number of operational cycles after the last cycle that the engine will continue to operate. Also provided a vector of true Remaining Useful Life (RUL) values for the test data."
   ]
  },
  {
   "cell_type": "code",
   "execution_count": 54,
   "metadata": {},
   "outputs": [],
   "source": [
    "import pandas as pd\n",
    "import numpy as np\n",
    "import os\n",
    "\n",
    "from sklearn.ensemble import RandomForestRegressor\n",
    "from sklearn.metrics import mean_squared_error\n",
    "from sklearn.metrics import mean_absolute_error\n",
    "import matplotlib.pyplot as plt\n",
    "\n",
    "from btb.tuning import GP, Uniform\n",
    "from btb import HyperParameter, ParamTypes"
   ]
  },
  {
   "cell_type": "markdown",
   "metadata": {},
   "source": [
    "# Read Data"
   ]
  },
  {
   "cell_type": "code",
   "execution_count": 60,
   "metadata": {},
   "outputs": [],
   "source": [
    "folder = r'C:\\Users\\Siyang\\Downloads\\CMAPSSData'\n",
    "df_rul = pd.read_table(os.path.join(folder,'RUL_FD001.txt'), header=None)\n",
    "df_train = pd.read_table(os.path.join(folder, 'train_FD001.txt'), sep=' ', header=None)\n",
    "df_test = pd.read_table(os.path.join(folder, 'test_FD001.txt'), sep=' ', header=None)"
   ]
  },
  {
   "cell_type": "code",
   "execution_count": 61,
   "metadata": {},
   "outputs": [],
   "source": [
    "# remove redundant columns due to extra spacing\n",
    "df_train = df_train[df_train.columns[:26]]\n",
    "df_test = df_test[df_test.columns[:26]]"
   ]
  },
  {
   "cell_type": "code",
   "execution_count": 62,
   "metadata": {},
   "outputs": [
    {
     "name": "stdout",
     "output_type": "stream",
     "text": [
      "RUL:  (100, 1)\n",
      "Train:  (20631, 26)\n",
      "Test:  (13096, 26)\n"
     ]
    }
   ],
   "source": [
    "# see data structure\n",
    "print('RUL: ', df_rul.shape)\n",
    "print('Train: ', df_train.shape)\n",
    "print('Test: ', df_test.shape)"
   ]
  },
  {
   "cell_type": "markdown",
   "metadata": {},
   "source": [
    "# Feature List\n",
    "\n",
    " * 1)\tunit number\n",
    " * 2)\ttime, in cycles\n",
    " * 3)\toperational setting 1\n",
    " * 4)\toperational setting 2\n",
    " * 5)\toperational setting 3\n",
    " * 6)\tsensor measurement  1\n",
    " * 7)\tsensor measurement  2\n",
    " * ...\n",
    " * 26)\tsensor measurement  26"
   ]
  },
  {
   "cell_type": "markdown",
   "metadata": {},
   "source": [
    "# Preprocess Train"
   ]
  },
  {
   "cell_type": "code",
   "execution_count": 63,
   "metadata": {},
   "outputs": [],
   "source": [
    "df_train.rename(columns = {0 : 'unit', 1 : 'cycle'}, inplace = True)\n",
    "\n",
    "total_cycles = df_train.groupby(['unit']).agg({'cycle' : 'max'}).reset_index()\n",
    "total_cycles.rename(columns = {'cycle' : 'total_cycles'}, inplace = True)\n",
    "\n",
    "df_train = df_train.merge(total_cycles, how = 'left', left_on = 'unit', right_on = 'unit')\n",
    "df_train['RUL'] = df_train.apply(lambda r: int(r['total_cycles'] - r['cycle']), axis = 1)\n",
    "\n",
    "\n",
    "df_train2 = df_train.copy()\n",
    "del df_train2['cycle']\n",
    "\n",
    "X_train = df_train2[df_train2.columns[:25]]\n",
    "y_train = df_train['RUL']"
   ]
  },
  {
   "cell_type": "markdown",
   "metadata": {},
   "source": [
    "# Preprocess Test"
   ]
  },
  {
   "cell_type": "code",
   "execution_count": 64,
   "metadata": {
    "scrolled": false
   },
   "outputs": [],
   "source": [
    "# number of engines\n",
    "engines = df_test[0].unique()\n",
    "\n",
    "df_list = []\n",
    "# get last cycle for each engine\n",
    "for i in engines:\n",
    "    df = df_test[df_test[0]==i]\n",
    "    last = (df[-1:])\n",
    "    df_list.append(last)\n",
    "\n",
    "# union all rows in a dataframe\n",
    "X_test = pd.concat(df_list)\n",
    "del X_test[1]"
   ]
  },
  {
   "cell_type": "code",
   "execution_count": 65,
   "metadata": {},
   "outputs": [],
   "source": [
    "y_test = df_rul.values.flatten()"
   ]
  },
  {
   "cell_type": "markdown",
   "metadata": {},
   "source": [
    "# Bayesian Optimization"
   ]
  },
  {
   "cell_type": "code",
   "execution_count": 85,
   "metadata": {},
   "outputs": [
    {
     "name": "stdout",
     "output_type": "stream",
     "text": [
      "epoch: 1, MAE: 23.26377013854677, param: {'n_estimators': 1765, 'max_depth': 12}\n",
      "epoch: 2, MAE: 22.679192199996134, param: {'n_estimators': 1058, 'max_depth': 9}\n",
      "epoch: 3, MAE: 22.937948992239168, param: {'n_estimators': 1058, 'max_depth': 11}\n",
      "epoch: 4, MAE: 22.69573420653577, param: {'n_estimators': 1057, 'max_depth': 9}\n",
      "epoch: 5, MAE: 23.89836738533487, param: {'n_estimators': 1060, 'max_depth': 7}\n",
      "epoch: 6, MAE: 22.88736074445585, param: {'n_estimators': 1058, 'max_depth': 10}\n",
      "epoch: 7, MAE: 25.107970547059235, param: {'n_estimators': 1056, 'max_depth': 6}\n",
      "epoch: 8, MAE: 23.0546772327079, param: {'n_estimators': 1058, 'max_depth': 12}\n",
      "epoch: 9, MAE: 23.338227594744126, param: {'n_estimators': 1056, 'max_depth': 13}\n",
      "epoch: 10, MAE: 22.826640321408668, param: {'n_estimators': 1058, 'max_depth': 11}\n"
     ]
    },
    {
     "name": "stderr",
     "output_type": "stream",
     "text": [
      "C:\\Users\\Siyang\\Anaconda3\\lib\\site-packages\\sklearn\\gaussian_process\\gpr.py:357: UserWarning: Predicted variances smaller than 0. Setting those variances to 0.\n",
      "  warnings.warn(\"Predicted variances smaller than 0. \"\n"
     ]
    },
    {
     "name": "stdout",
     "output_type": "stream",
     "text": [
      "epoch: 11, MAE: 22.82529895531612, param: {'n_estimators': 1058, 'max_depth': 10}\n",
      "epoch: 12, MAE: 22.94824059884512, param: {'n_estimators': 1058, 'max_depth': 8}\n",
      "epoch: 13, MAE: 22.75586220681919, param: {'n_estimators': 1062, 'max_depth': 11}\n",
      "epoch: 14, MAE: 22.769839240882575, param: {'n_estimators': 1057, 'max_depth': 10}\n",
      "epoch: 15, MAE: 22.83369704490951, param: {'n_estimators': 1061, 'max_depth': 11}\n",
      "epoch: 16, MAE: 22.73486543653694, param: {'n_estimators': 1069, 'max_depth': 10}\n",
      "epoch: 17, MAE: 22.81989883544827, param: {'n_estimators': 1057, 'max_depth': 10}\n",
      "epoch: 18, MAE: 22.602972400473718, param: {'n_estimators': 1056, 'max_depth': 9}\n",
      "epoch: 19, MAE: 22.810906754832434, param: {'n_estimators': 1069, 'max_depth': 11}\n",
      "epoch: 20, MAE: 22.707479271328467, param: {'n_estimators': 1055, 'max_depth': 9}\n",
      "epoch: 21, MAE: 22.757479005669254, param: {'n_estimators': 1056, 'max_depth': 10}\n",
      "epoch: 22, MAE: 23.014246625720673, param: {'n_estimators': 1061, 'max_depth': 11}\n",
      "epoch: 23, MAE: 23.450933180054673, param: {'n_estimators': 1061, 'max_depth': 14}\n",
      "epoch: 24, MAE: 23.051882900776015, param: {'n_estimators': 1059, 'max_depth': 11}\n",
      "epoch: 25, MAE: 22.713554337434093, param: {'n_estimators': 1062, 'max_depth': 10}\n",
      "\n",
      "best accuracy: 22.602972400473718\n",
      "best parameters: {'n_estimators': 1056, 'max_depth': 9}\n"
     ]
    }
   ],
   "source": [
    "def auto_tuning(tunables, epoch, X_train, X_test, y_train, y_test, verbose=0):\n",
    "    \"\"\"Auto-tuner using BTB library\"\"\"\n",
    "    tuner = GP(tunables)\n",
    "    parameters = tuner.propose()\n",
    "\n",
    "    score_list = []\n",
    "    param_list = []\n",
    "\n",
    "    for i in range(epoch):\n",
    "        # ** unpacks dict in a argument\n",
    "        model = RandomForestRegressor(**parameters, n_jobs=-1)\n",
    "        model.fit(X_train, y_train)\n",
    "        y_predict = model.predict(X_test)\n",
    "        score = mean_absolute_error(y_test, y_predict)\n",
    "\n",
    "        if verbose==0:\n",
    "            pass\n",
    "        elif verbose==1:\n",
    "            print('epoch: {}, MAE: {}'.format(i+1,score))\n",
    "        elif verbose==2:\n",
    "            print('epoch: {}, MAE: {}, param: {}'.format(i+1,score,parameters))\n",
    "            \n",
    "        score = 100 - score\n",
    "        # store scores & parameters\n",
    "        score_list.append(score)\n",
    "        param_list.append(parameters)\n",
    "\n",
    "        # get new parameters\n",
    "        tuner.add(parameters, score)\n",
    "        parameters = tuner.propose()\n",
    "\n",
    "    best_s = tuner._best_score\n",
    "    best_score_index = score_list.index(best_s)\n",
    "    best_param = param_list[best_score_index]\n",
    "    print('\\nbest accuracy: {}'.format(100-best_s))\n",
    "    print('best parameters: {}'.format(best_param))\n",
    "    return best_param\n",
    "\n",
    "\n",
    "tunables = [('n_estimators', HyperParameter(ParamTypes.INT, [500, 2000])),\n",
    "            ('max_depth', HyperParameter(ParamTypes.INT, [3, 20]))]\n",
    "\n",
    "best_param = auto_tuning(tunables, 25, X_train, X_test, y_train, y_test, 2)"
   ]
  },
  {
   "cell_type": "markdown",
   "metadata": {},
   "source": [
    "# Fit Model"
   ]
  },
  {
   "cell_type": "code",
   "execution_count": 86,
   "metadata": {},
   "outputs": [
    {
     "data": {
      "text/plain": [
       "RandomForestRegressor(bootstrap=True, criterion='mse', max_depth=9,\n",
       "           max_features='auto', max_leaf_nodes=None,\n",
       "           min_impurity_decrease=0.0, min_impurity_split=None,\n",
       "           min_samples_leaf=1, min_samples_split=2,\n",
       "           min_weight_fraction_leaf=0.0, n_estimators=1056, n_jobs=-1,\n",
       "           oob_score=False, random_state=None, verbose=0, warm_start=False)"
      ]
     },
     "execution_count": 86,
     "metadata": {},
     "output_type": "execute_result"
    }
   ],
   "source": [
    "model = RandomForestRegressor(**best_param, n_jobs=-1)\n",
    "model.fit(X_train, y_train)"
   ]
  },
  {
   "cell_type": "markdown",
   "metadata": {},
   "source": [
    "# Feature Importance"
   ]
  },
  {
   "cell_type": "code",
   "execution_count": 87,
   "metadata": {},
   "outputs": [
    {
     "data": {
      "text/html": [
       "<div>\n",
       "<style scoped>\n",
       "    .dataframe tbody tr th:only-of-type {\n",
       "        vertical-align: middle;\n",
       "    }\n",
       "\n",
       "    .dataframe tbody tr th {\n",
       "        vertical-align: top;\n",
       "    }\n",
       "\n",
       "    .dataframe thead th {\n",
       "        text-align: right;\n",
       "    }\n",
       "</style>\n",
       "<table border=\"1\" class=\"dataframe\">\n",
       "  <thead>\n",
       "    <tr style=\"text-align: right;\">\n",
       "      <th></th>\n",
       "      <th>feature importance</th>\n",
       "    </tr>\n",
       "  </thead>\n",
       "  <tbody>\n",
       "    <tr>\n",
       "      <th>15</th>\n",
       "      <td>0.553843</td>\n",
       "    </tr>\n",
       "    <tr>\n",
       "      <th>13</th>\n",
       "      <td>0.133312</td>\n",
       "    </tr>\n",
       "    <tr>\n",
       "      <th>unit</th>\n",
       "      <td>0.114426</td>\n",
       "    </tr>\n",
       "    <tr>\n",
       "      <th>8</th>\n",
       "      <td>0.083669</td>\n",
       "    </tr>\n",
       "    <tr>\n",
       "      <th>16</th>\n",
       "      <td>0.033472</td>\n",
       "    </tr>\n",
       "    <tr>\n",
       "      <th>11</th>\n",
       "      <td>0.017704</td>\n",
       "    </tr>\n",
       "    <tr>\n",
       "      <th>18</th>\n",
       "      <td>0.016382</td>\n",
       "    </tr>\n",
       "    <tr>\n",
       "      <th>19</th>\n",
       "      <td>0.008358</td>\n",
       "    </tr>\n",
       "    <tr>\n",
       "      <th>17</th>\n",
       "      <td>0.008301</td>\n",
       "    </tr>\n",
       "    <tr>\n",
       "      <th>25</th>\n",
       "      <td>0.006792</td>\n",
       "    </tr>\n",
       "    <tr>\n",
       "      <th>12</th>\n",
       "      <td>0.006569</td>\n",
       "    </tr>\n",
       "    <tr>\n",
       "      <th>24</th>\n",
       "      <td>0.004679</td>\n",
       "    </tr>\n",
       "    <tr>\n",
       "      <th>6</th>\n",
       "      <td>0.004571</td>\n",
       "    </tr>\n",
       "    <tr>\n",
       "      <th>7</th>\n",
       "      <td>0.003996</td>\n",
       "    </tr>\n",
       "    <tr>\n",
       "      <th>21</th>\n",
       "      <td>0.002018</td>\n",
       "    </tr>\n",
       "    <tr>\n",
       "      <th>2</th>\n",
       "      <td>0.001219</td>\n",
       "    </tr>\n",
       "    <tr>\n",
       "      <th>3</th>\n",
       "      <td>0.000663</td>\n",
       "    </tr>\n",
       "    <tr>\n",
       "      <th>10</th>\n",
       "      <td>0.000026</td>\n",
       "    </tr>\n",
       "    <tr>\n",
       "      <th>5</th>\n",
       "      <td>0.000000</td>\n",
       "    </tr>\n",
       "    <tr>\n",
       "      <th>14</th>\n",
       "      <td>0.000000</td>\n",
       "    </tr>\n",
       "    <tr>\n",
       "      <th>20</th>\n",
       "      <td>0.000000</td>\n",
       "    </tr>\n",
       "    <tr>\n",
       "      <th>22</th>\n",
       "      <td>0.000000</td>\n",
       "    </tr>\n",
       "    <tr>\n",
       "      <th>23</th>\n",
       "      <td>0.000000</td>\n",
       "    </tr>\n",
       "    <tr>\n",
       "      <th>9</th>\n",
       "      <td>0.000000</td>\n",
       "    </tr>\n",
       "    <tr>\n",
       "      <th>4</th>\n",
       "      <td>0.000000</td>\n",
       "    </tr>\n",
       "  </tbody>\n",
       "</table>\n",
       "</div>"
      ],
      "text/plain": [
       "      feature importance\n",
       "15              0.553843\n",
       "13              0.133312\n",
       "unit            0.114426\n",
       "8               0.083669\n",
       "16              0.033472\n",
       "11              0.017704\n",
       "18              0.016382\n",
       "19              0.008358\n",
       "17              0.008301\n",
       "25              0.006792\n",
       "12              0.006569\n",
       "24              0.004679\n",
       "6               0.004571\n",
       "7               0.003996\n",
       "21              0.002018\n",
       "2               0.001219\n",
       "3               0.000663\n",
       "10              0.000026\n",
       "5               0.000000\n",
       "14              0.000000\n",
       "20              0.000000\n",
       "22              0.000000\n",
       "23              0.000000\n",
       "9               0.000000\n",
       "4               0.000000"
      ]
     },
     "execution_count": 87,
     "metadata": {},
     "output_type": "execute_result"
    }
   ],
   "source": [
    "f_impt= pd.DataFrame(model.feature_importances_, index=X_train.columns)\n",
    "f_impt = f_impt.sort_values(by=0,ascending=False)\n",
    "f_impt.columns = ['feature importance']\n",
    "f_impt"
   ]
  },
  {
   "cell_type": "markdown",
   "metadata": {},
   "source": [
    "# Plot Degradation"
   ]
  },
  {
   "cell_type": "code",
   "execution_count": 88,
   "metadata": {
    "scrolled": false
   },
   "outputs": [
    {
     "data": {
      "image/png": "[encoded data removed]",
      "text/plain": [
       "<Figure size 1080x72 with 1 Axes>"
      ]
     },
     "metadata": {
      "needs_background": "light"
     },
     "output_type": "display_data"
    },
    {
     "data": {
      "image/png": "[encoded data removed]",
      "text/plain": [
       "<Figure size 1080x72 with 1 Axes>"
      ]
     },
     "metadata": {
      "needs_background": "light"
     },
     "output_type": "display_data"
    },
    {
     "data": {
      "image/png": "[encoded data removed]",
      "text/plain": [
       "<Figure size 1080x72 with 1 Axes>"
      ]
     },
     "metadata": {
      "needs_background": "light"
     },
     "output_type": "display_data"
    },
    {
     "data": {
      "image/png": "[encoded data removed]",
      "text/plain": [
       "<Figure size 1080x72 with 1 Axes>"
      ]
     },
     "metadata": {
      "needs_background": "light"
     },
     "output_type": "display_data"
    }
   ],
   "source": [
    "sensors = [15,13,8,16]\n",
    "\n",
    "for i in sensors:\n",
    "    plt.figure(figsize=(15,1))\n",
    "    plt.plot(X_train[i][:2000]);"
   ]
  },
  {
   "cell_type": "markdown",
   "metadata": {},
   "source": [
    "# Get Model R-Squared"
   ]
  },
  {
   "cell_type": "code",
   "execution_count": 89,
   "metadata": {},
   "outputs": [
    {
     "name": "stdout",
     "output_type": "stream",
     "text": [
      "model fit: 0.7926583291493039\n"
     ]
    }
   ],
   "source": [
    "r2_train = model.score(X_train, y_train)\n",
    "print('model fit:', r2_train)"
   ]
  },
  {
   "cell_type": "markdown",
   "metadata": {},
   "source": [
    "# Get RMSE & MAE"
   ]
  },
  {
   "cell_type": "code",
   "execution_count": 90,
   "metadata": {},
   "outputs": [],
   "source": [
    "y_predicted_train = model.predict(X_train)\n",
    "y_predicted_test = model.predict(X_test)"
   ]
  },
  {
   "cell_type": "markdown",
   "metadata": {},
   "source": [
    "MAE uses the absolute error, ie. # of cycles"
   ]
  },
  {
   "cell_type": "code",
   "execution_count": 92,
   "metadata": {},
   "outputs": [
    {
     "name": "stdout",
     "output_type": "stream",
     "text": [
      "Train MAE 22.824544910375984\n",
      "Train MAE 22.615222061546355\n"
     ]
    }
   ],
   "source": [
    "MAE_train = mean_absolute_error(y_train, y_predicted_train)\n",
    "MAE_test = mean_absolute_error(y_test, y_predicted_test)\n",
    "\n",
    "print('Train MAE', MAE_train)\n",
    "print('Train MAE', MAE_test)"
   ]
  },
  {
   "cell_type": "markdown",
   "metadata": {},
   "source": [
    "RMSE uses the root of squared of errors, so the larger errors/outliers will be amplified more. The values will always be higher than MAE."
   ]
  },
  {
   "cell_type": "code",
   "execution_count": 91,
   "metadata": {},
   "outputs": [
    {
     "name": "stdout",
     "output_type": "stream",
     "text": [
      "Train RMSE: 31.36405111629327\n",
      "Test RMSE: 32.35509563551364\n"
     ]
    }
   ],
   "source": [
    "MSE_train = mean_squared_error(y_train, y_predicted_train)\n",
    "MSE_test = mean_squared_error(y_test, y_predicted_test)\n",
    "\n",
    "print('Train RMSE:', np.sqrt(MSE_train))\n",
    "print('Test RMSE:', np.sqrt(MSE_test))"
   ]
  }
 ],
 "metadata": {
  "kernelspec": {
   "display_name": "Python 3",
   "language": "python",
   "name": "python3"
  },
  "language_info": {
   "codemirror_mode": {
    "name": "ipython",
    "version": 3
   },
   "file_extension": ".py",
   "mimetype": "text/x-python",
   "name": "python",
   "nbconvert_exporter": "python",
   "pygments_lexer": "ipython3",
   "version": "3.7.3"
  },
  "toc": {
   "base_numbering": 1,
   "nav_menu": {},
   "number_sections": true,
   "sideBar": true,
   "skip_h1_title": false,
   "title_cell": "Table of Contents",
   "title_sidebar": "Contents",
   "toc_cell": false,
   "toc_position": {
    "height": "calc(100% - 180px)",
    "left": "10px",
    "top": "150px",
    "width": "278.6px"
   },
   "toc_section_display": true,
   "toc_window_display": true
  }
 },
 "nbformat": 4,
 "nbformat_minor": 2
}
